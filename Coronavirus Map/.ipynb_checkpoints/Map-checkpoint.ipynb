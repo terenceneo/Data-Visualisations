{
 "cells": [
  {
   "cell_type": "markdown",
   "metadata": {
    "toc": true
   },
   "source": [
    "<h1>Table of Contents<span class=\"tocSkip\"></span></h1>\n",
    "<div class=\"toc\"><ul class=\"toc-item\"><li><span><a href=\"#Import-Datasets\" data-toc-modified-id=\"Import-Datasets-1\"><span class=\"toc-item-num\">1&nbsp;&nbsp;</span>Import Datasets</a></span></li><li><span><a href=\"#Pre-processing\" data-toc-modified-id=\"Pre-processing-2\"><span class=\"toc-item-num\">2&nbsp;&nbsp;</span>Pre-processing</a></span></li><li><span><a href=\"#Visualisation-with-plotly\" data-toc-modified-id=\"Visualisation-with-plotly-3\"><span class=\"toc-item-num\">3&nbsp;&nbsp;</span>Visualisation with plotly</a></span></li><li><span><a href=\"#Visualisations-with-folium-and-branca\" data-toc-modified-id=\"Visualisations-with-folium-and-branca-4\"><span class=\"toc-item-num\">4&nbsp;&nbsp;</span>Visualisations with folium and branca</a></span></li></ul></div>"
   ]
  },
  {
   "cell_type": "code",
   "execution_count": 49,
   "metadata": {},
   "outputs": [],
   "source": [
    "import pandas as pd \n",
    "import numpy as np\n",
    "import csv"
   ]
  },
  {
   "cell_type": "markdown",
   "metadata": {},
   "source": [
    "Tutorial from https://plot.ly/python/mapbox-county-choropleth/"
   ]
  },
  {
   "cell_type": "code",
   "execution_count": 66,
   "metadata": {},
   "outputs": [
    {
     "ename": "ModuleNotFoundError",
     "evalue": "No module named 'plotly.express'",
     "output_type": "error",
     "traceback": [
      "\u001b[1;31m---------------------------------------------------------------------------\u001b[0m",
      "\u001b[1;31mModuleNotFoundError\u001b[0m                       Traceback (most recent call last)",
      "\u001b[1;32m<ipython-input-66-93184247bac2>\u001b[0m in \u001b[0;36m<module>\u001b[1;34m\u001b[0m\n\u001b[0;32m      2\u001b[0m \u001b[1;32mfrom\u001b[0m \u001b[0murllib\u001b[0m\u001b[1;33m.\u001b[0m\u001b[0mrequest\u001b[0m \u001b[1;32mimport\u001b[0m \u001b[0murlopen\u001b[0m\u001b[1;33m\u001b[0m\u001b[1;33m\u001b[0m\u001b[0m\n\u001b[0;32m      3\u001b[0m \u001b[1;32mimport\u001b[0m \u001b[0mjson\u001b[0m\u001b[1;33m\u001b[0m\u001b[1;33m\u001b[0m\u001b[0m\n\u001b[1;32m----> 4\u001b[1;33m \u001b[1;32mimport\u001b[0m \u001b[0mplotly\u001b[0m\u001b[1;33m.\u001b[0m\u001b[0mexpress\u001b[0m \u001b[1;32mas\u001b[0m \u001b[0mpx\u001b[0m\u001b[1;33m\u001b[0m\u001b[1;33m\u001b[0m\u001b[0m\n\u001b[0m",
      "\u001b[1;31mModuleNotFoundError\u001b[0m: No module named 'plotly.express'"
     ]
    }
   ],
   "source": [
    "# for plotly Choropleth Maps\n",
    "from urllib.request import urlopen\n",
    "import json\n",
    "import plotly.express as px"
   ]
  },
  {
   "cell_type": "code",
   "execution_count": 50,
   "metadata": {},
   "outputs": [],
   "source": [
    "# for folium overlaid with branca colormap\n",
    "from folium import plugins\n",
    "import folium\n",
    "import branca\n",
    "from branca.colormap import LinearColormap\n",
    "\n",
    "# import geopandas as gpd"
   ]
  },
  {
   "cell_type": "markdown",
   "metadata": {},
   "source": [
    "# Import Datasets"
   ]
  },
  {
   "cell_type": "code",
   "execution_count": 58,
   "metadata": {
    "scrolled": true
   },
   "outputs": [],
   "source": [
    "df = pd.read_csv('UK Data.csv')\n",
    "df = uk[:-1] # remove Awaiting Confirmation last row"
   ]
  },
  {
   "cell_type": "code",
   "execution_count": 59,
   "metadata": {},
   "outputs": [
    {
     "data": {
      "text/html": [
       "<div>\n",
       "<style scoped>\n",
       "    .dataframe tbody tr th:only-of-type {\n",
       "        vertical-align: middle;\n",
       "    }\n",
       "\n",
       "    .dataframe tbody tr th {\n",
       "        vertical-align: top;\n",
       "    }\n",
       "\n",
       "    .dataframe thead th {\n",
       "        text-align: right;\n",
       "    }\n",
       "</style>\n",
       "<table border=\"1\" class=\"dataframe\">\n",
       "  <thead>\n",
       "    <tr style=\"text-align: right;\">\n",
       "      <th></th>\n",
       "      <th>Number of confirmed cases</th>\n",
       "    </tr>\n",
       "  </thead>\n",
       "  <tbody>\n",
       "    <tr>\n",
       "      <th>count</th>\n",
       "      <td>148.000000</td>\n",
       "    </tr>\n",
       "    <tr>\n",
       "      <th>mean</th>\n",
       "      <td>2.391892</td>\n",
       "    </tr>\n",
       "    <tr>\n",
       "      <th>std</th>\n",
       "      <td>3.072005</td>\n",
       "    </tr>\n",
       "    <tr>\n",
       "      <th>min</th>\n",
       "      <td>0.000000</td>\n",
       "    </tr>\n",
       "    <tr>\n",
       "      <th>25%</th>\n",
       "      <td>0.000000</td>\n",
       "    </tr>\n",
       "    <tr>\n",
       "      <th>50%</th>\n",
       "      <td>1.000000</td>\n",
       "    </tr>\n",
       "    <tr>\n",
       "      <th>75%</th>\n",
       "      <td>3.250000</td>\n",
       "    </tr>\n",
       "    <tr>\n",
       "      <th>max</th>\n",
       "      <td>18.000000</td>\n",
       "    </tr>\n",
       "  </tbody>\n",
       "</table>\n",
       "</div>"
      ],
      "text/plain": [
       "       Number of confirmed cases\n",
       "count                 148.000000\n",
       "mean                    2.391892\n",
       "std                     3.072005\n",
       "min                     0.000000\n",
       "25%                     0.000000\n",
       "50%                     1.000000\n",
       "75%                     3.250000\n",
       "max                    18.000000"
      ]
     },
     "execution_count": 59,
     "metadata": {},
     "output_type": "execute_result"
    }
   ],
   "source": [
    "df.describe()"
   ]
  },
  {
   "cell_type": "code",
   "execution_count": 60,
   "metadata": {},
   "outputs": [
    {
     "data": {
      "text/html": [
       "<div>\n",
       "<style scoped>\n",
       "    .dataframe tbody tr th:only-of-type {\n",
       "        vertical-align: middle;\n",
       "    }\n",
       "\n",
       "    .dataframe tbody tr th {\n",
       "        vertical-align: top;\n",
       "    }\n",
       "\n",
       "    .dataframe thead th {\n",
       "        text-align: right;\n",
       "    }\n",
       "</style>\n",
       "<table border=\"1\" class=\"dataframe\">\n",
       "  <thead>\n",
       "    <tr style=\"text-align: right;\">\n",
       "      <th></th>\n",
       "      <th>City</th>\n",
       "      <th>Number of confirmed cases</th>\n",
       "    </tr>\n",
       "  </thead>\n",
       "  <tbody>\n",
       "    <tr>\n",
       "      <th>0</th>\n",
       "      <td>Barking and Dagenham</td>\n",
       "      <td>1</td>\n",
       "    </tr>\n",
       "    <tr>\n",
       "      <th>1</th>\n",
       "      <td>Barnet</td>\n",
       "      <td>8</td>\n",
       "    </tr>\n",
       "    <tr>\n",
       "      <th>2</th>\n",
       "      <td>Barnsley</td>\n",
       "      <td>2</td>\n",
       "    </tr>\n",
       "    <tr>\n",
       "      <th>3</th>\n",
       "      <td>Bath and North East Somerset</td>\n",
       "      <td>0</td>\n",
       "    </tr>\n",
       "    <tr>\n",
       "      <th>4</th>\n",
       "      <td>Bedford</td>\n",
       "      <td>0</td>\n",
       "    </tr>\n",
       "  </tbody>\n",
       "</table>\n",
       "</div>"
      ],
      "text/plain": [
       "                           City  Number of confirmed cases\n",
       "0          Barking and Dagenham                          1\n",
       "1                        Barnet                          8\n",
       "2                      Barnsley                          2\n",
       "3  Bath and North East Somerset                          0\n",
       "4                       Bedford                          0"
      ]
     },
     "execution_count": 60,
     "metadata": {},
     "output_type": "execute_result"
    }
   ],
   "source": [
    "df.head()"
   ]
  },
  {
   "cell_type": "code",
   "execution_count": 55,
   "metadata": {},
   "outputs": [],
   "source": [
    "with urlopen('https://raw.githubusercontent.com/martinjc/UK-GeoJSON/master/json/administrative/gb/topo_lad.json') as response:\n",
    "    cities = json.load(response)"
   ]
  },
  {
   "cell_type": "markdown",
   "metadata": {},
   "source": [
    "# Pre-processing"
   ]
  },
  {
   "cell_type": "code",
   "execution_count": 61,
   "metadata": {},
   "outputs": [],
   "source": [
    "small = min(df['Number of confirmed cases'])\n",
    "big = max(df['Number of confirmed cases'])"
   ]
  },
  {
   "cell_type": "markdown",
   "metadata": {},
   "source": [
    "# Visualisation with plotly"
   ]
  },
  {
   "cell_type": "code",
   "execution_count": 62,
   "metadata": {},
   "outputs": [
    {
     "ename": "AttributeError",
     "evalue": "module 'plotly' has no attribute 'choropleth_mapbox'",
     "output_type": "error",
     "traceback": [
      "\u001b[1;31m---------------------------------------------------------------------------\u001b[0m",
      "\u001b[1;31mAttributeError\u001b[0m                            Traceback (most recent call last)",
      "\u001b[1;32m<ipython-input-62-5672a1b0500d>\u001b[0m in \u001b[0;36m<module>\u001b[1;34m\u001b[0m\n\u001b[1;32m----> 1\u001b[1;33m fig = px.choropleth_mapbox(df, geojson=cities, locations='fips', color='Number of confirmed cases',\n\u001b[0m\u001b[0;32m      2\u001b[0m                            \u001b[0mcolor_continuous_scale\u001b[0m\u001b[1;33m=\u001b[0m\u001b[1;34m\"Viridis\"\u001b[0m\u001b[1;33m,\u001b[0m\u001b[1;33m\u001b[0m\u001b[1;33m\u001b[0m\u001b[0m\n\u001b[0;32m      3\u001b[0m                            \u001b[0mrange_color\u001b[0m\u001b[1;33m=\u001b[0m\u001b[1;33m(\u001b[0m\u001b[1;36m0\u001b[0m\u001b[1;33m,\u001b[0m \u001b[1;36m12\u001b[0m\u001b[1;33m)\u001b[0m\u001b[1;33m,\u001b[0m\u001b[1;33m\u001b[0m\u001b[1;33m\u001b[0m\u001b[0m\n\u001b[0;32m      4\u001b[0m                            \u001b[0mmapbox_style\u001b[0m\u001b[1;33m=\u001b[0m\u001b[1;34m\"carto-positron\"\u001b[0m\u001b[1;33m,\u001b[0m\u001b[1;33m\u001b[0m\u001b[1;33m\u001b[0m\u001b[0m\n\u001b[0;32m      5\u001b[0m                            \u001b[0mzoom\u001b[0m\u001b[1;33m=\u001b[0m\u001b[1;36m5\u001b[0m\u001b[1;33m,\u001b[0m \u001b[0mcenter\u001b[0m \u001b[1;33m=\u001b[0m \u001b[1;33m{\u001b[0m\u001b[1;34m\"lat\"\u001b[0m\u001b[1;33m:\u001b[0m \u001b[1;36m55\u001b[0m\u001b[1;33m,\u001b[0m \u001b[1;34m\"lon\"\u001b[0m\u001b[1;33m:\u001b[0m \u001b[1;36m4\u001b[0m\u001b[1;33m}\u001b[0m\u001b[1;33m,\u001b[0m\u001b[1;33m\u001b[0m\u001b[1;33m\u001b[0m\u001b[0m\n",
      "\u001b[1;31mAttributeError\u001b[0m: module 'plotly' has no attribute 'choropleth_mapbox'"
     ]
    }
   ],
   "source": [
    "fig = px.choropleth_mapbox(df, geojson=cities, locations='fips', color='Number of confirmed cases',\n",
    "                           color_continuous_scale=\"Viridis\",\n",
    "                           range_color=(0, 12),\n",
    "                           mapbox_style=\"carto-positron\",\n",
    "                           zoom=5, center = {\"lat\": 55, \"lon\": 4},\n",
    "                           opacity=0.5,\n",
    "                           labels={'Number of confirmed cases':'Cases'}\n",
    "                          )\n",
    "fig.update_layout(margin={\"r\":0,\"t\":0,\"l\":0,\"b\":0})\n",
    "fig.show()"
   ]
  },
  {
   "cell_type": "markdown",
   "metadata": {},
   "source": [
    "# Visualisations with folium and branca"
   ]
  },
  {
   "cell_type": "markdown",
   "metadata": {},
   "source": [
    "Does not work"
   ]
  },
  {
   "cell_type": "code",
   "execution_count": 40,
   "metadata": {},
   "outputs": [],
   "source": [
    "uk_map = folium.Map(location=[55, 4], zoom_start=5)\n",
    "color_scale = LinearColormap(['green','red'], vmin=small, vmax=big)"
   ]
  },
  {
   "cell_type": "code",
   "execution_count": 41,
   "metadata": {},
   "outputs": [
    {
     "data": {
      "text/plain": [
       "['City', 'Number of confirmed cases']"
      ]
     },
     "execution_count": 41,
     "metadata": {},
     "output_type": "execute_result"
    }
   ],
   "source": [
    "df = uk\n",
    "features = df.columns.sort_values().tolist()\n",
    "features"
   ]
  },
  {
   "cell_type": "code",
   "execution_count": null,
   "metadata": {},
   "outputs": [],
   "source": []
  },
  {
   "cell_type": "code",
   "execution_count": 45,
   "metadata": {},
   "outputs": [
    {
     "ename": "ValueError",
     "evalue": "Cannot render objects with any missing geometries:                                     City  Number of confirmed cases\n0                   Barking and Dagenham                          1\n1                                 Barnet                          8\n2                               Barnsley                          2\n3           Bath and North East Somerset                          0\n4                                Bedford                          0\n5                                 Bexley                          0\n6                             Birmingham                          2\n7                  Blackburn with Darwen                          0\n8                              Blackpool                          0\n9                                 Bolton                          3\n10   Bournemouth, Christchurch and Poole                          3\n11                      Bracknell Forest                          2\n12                              Bradford                          1\n13                                 Brent                          3\n14                     Brighton and Hove                          8\n15                      Bristol, City of                          3\n16                               Bromley                          2\n17                       Buckinghamshire                          2\n18                                  Bury                          3\n19                            Calderdale                          0\n20                        Cambridgeshire                          1\n21                                Camden                          7\n22                  Central Bedfordshire                          0\n23                         Cheshire East                          0\n24             Cheshire West and Chester                          0\n25          Cornwall and Isles of Scilly                          5\n26                         County Durham                          1\n27                              Coventry                          3\n28                               Croydon                          1\n29                               Cumbria                          7\n..                                   ...                        ...\n119                     Stockton-on-Tees                          2\n120                       Stoke-on-Trent                          0\n121                              Suffolk                          1\n122                           Sunderland                          1\n123                               Surrey                         10\n124                               Sutton                          4\n125                              Swindon                          2\n126                             Tameside                          1\n127                   Telford and Wrekin                          0\n128                             Thurrock                          0\n129                               Torbay                          7\n130                        Tower Hamlets                          4\n131                             Trafford                          4\n132                            Wakefield                          0\n133                              Walsall                          0\n134                       Waltham Forest                          1\n135                           Wandsworth                          3\n136                           Warrington                          1\n137                         Warwickshire                          4\n138                       West Berkshire                          0\n139                          West Sussex                          3\n140                          Westminster                          6\n141                                Wigan                          3\n142                            Wiltshire                          4\n143               Windsor and Maidenhead                          1\n144                               Wirral                          2\n145                            Wokingham                          3\n146                        Wolverhampton                          4\n147                       Worcestershire                          0\n148                                 York                          3\n\n[149 rows x 2 columns]",
     "output_type": "error",
     "traceback": [
      "\u001b[1;31m---------------------------------------------------------------------------\u001b[0m",
      "\u001b[1;31mValueError\u001b[0m                                Traceback (most recent call last)",
      "\u001b[1;32m<ipython-input-45-bdac16c8ee46>\u001b[0m in \u001b[0;36m<module>\u001b[1;34m\u001b[0m\n\u001b[0;32m     21\u001b[0m                    \u001b[1;34m'fillOpacity'\u001b[0m\u001b[1;33m:\u001b[0m\u001b[1;36m0.5\u001b[0m\u001b[1;33m,\u001b[0m\u001b[1;33m\u001b[0m\u001b[1;33m\u001b[0m\u001b[0m\n\u001b[0;32m     22\u001b[0m                    },\n\u001b[1;32m---> 23\u001b[1;33m                highlight_function=lambda feature: {'weight':1, 'fillColor': get_color(feature), 'fillOpacity': 0.5}).add_to(uk_map)\n\u001b[0m",
      "\u001b[1;32mC:\\ProgramData\\Anaconda3\\lib\\site-packages\\folium\\features.py\u001b[0m in \u001b[0;36m__init__\u001b[1;34m(self, data, style_function, highlight_function, name, overlay, control, show, smooth_factor, tooltip, embed)\u001b[0m\n\u001b[0;32m    450\u001b[0m         \u001b[0mself\u001b[0m\u001b[1;33m.\u001b[0m\u001b[0mhighlight\u001b[0m \u001b[1;33m=\u001b[0m \u001b[0mhighlight_function\u001b[0m \u001b[1;32mis\u001b[0m \u001b[1;32mnot\u001b[0m \u001b[1;32mNone\u001b[0m\u001b[1;33m\u001b[0m\u001b[1;33m\u001b[0m\u001b[0m\n\u001b[0;32m    451\u001b[0m \u001b[1;33m\u001b[0m\u001b[0m\n\u001b[1;32m--> 452\u001b[1;33m         \u001b[0mself\u001b[0m\u001b[1;33m.\u001b[0m\u001b[0mdata\u001b[0m \u001b[1;33m=\u001b[0m \u001b[0mself\u001b[0m\u001b[1;33m.\u001b[0m\u001b[0mprocess_data\u001b[0m\u001b[1;33m(\u001b[0m\u001b[0mdata\u001b[0m\u001b[1;33m)\u001b[0m\u001b[1;33m\u001b[0m\u001b[1;33m\u001b[0m\u001b[0m\n\u001b[0m\u001b[0;32m    453\u001b[0m \u001b[1;33m\u001b[0m\u001b[0m\n\u001b[0;32m    454\u001b[0m         \u001b[1;32mif\u001b[0m \u001b[0mself\u001b[0m\u001b[1;33m.\u001b[0m\u001b[0mstyle\u001b[0m \u001b[1;32mor\u001b[0m \u001b[0mself\u001b[0m\u001b[1;33m.\u001b[0m\u001b[0mhighlight\u001b[0m\u001b[1;33m:\u001b[0m\u001b[1;33m\u001b[0m\u001b[1;33m\u001b[0m\u001b[0m\n",
      "\u001b[1;32mC:\\ProgramData\\Anaconda3\\lib\\site-packages\\folium\\features.py\u001b[0m in \u001b[0;36mprocess_data\u001b[1;34m(self, data)\u001b[0m\n\u001b[0;32m    494\u001b[0m         \u001b[1;32melse\u001b[0m\u001b[1;33m:\u001b[0m\u001b[1;33m\u001b[0m\u001b[1;33m\u001b[0m\u001b[0m\n\u001b[0;32m    495\u001b[0m             raise ValueError('Cannot render objects with any missing geometries'\n\u001b[1;32m--> 496\u001b[1;33m                              ': {!r}'.format(data))\n\u001b[0m\u001b[0;32m    497\u001b[0m \u001b[1;33m\u001b[0m\u001b[0m\n\u001b[0;32m    498\u001b[0m     \u001b[1;32mdef\u001b[0m \u001b[0mconvert_to_feature_collection\u001b[0m\u001b[1;33m(\u001b[0m\u001b[0mself\u001b[0m\u001b[1;33m)\u001b[0m\u001b[1;33m:\u001b[0m\u001b[1;33m\u001b[0m\u001b[1;33m\u001b[0m\u001b[0m\n",
      "\u001b[1;31mValueError\u001b[0m: Cannot render objects with any missing geometries:                                     City  Number of confirmed cases\n0                   Barking and Dagenham                          1\n1                                 Barnet                          8\n2                               Barnsley                          2\n3           Bath and North East Somerset                          0\n4                                Bedford                          0\n5                                 Bexley                          0\n6                             Birmingham                          2\n7                  Blackburn with Darwen                          0\n8                              Blackpool                          0\n9                                 Bolton                          3\n10   Bournemouth, Christchurch and Poole                          3\n11                      Bracknell Forest                          2\n12                              Bradford                          1\n13                                 Brent                          3\n14                     Brighton and Hove                          8\n15                      Bristol, City of                          3\n16                               Bromley                          2\n17                       Buckinghamshire                          2\n18                                  Bury                          3\n19                            Calderdale                          0\n20                        Cambridgeshire                          1\n21                                Camden                          7\n22                  Central Bedfordshire                          0\n23                         Cheshire East                          0\n24             Cheshire West and Chester                          0\n25          Cornwall and Isles of Scilly                          5\n26                         County Durham                          1\n27                              Coventry                          3\n28                               Croydon                          1\n29                               Cumbria                          7\n..                                   ...                        ...\n119                     Stockton-on-Tees                          2\n120                       Stoke-on-Trent                          0\n121                              Suffolk                          1\n122                           Sunderland                          1\n123                               Surrey                         10\n124                               Sutton                          4\n125                              Swindon                          2\n126                             Tameside                          1\n127                   Telford and Wrekin                          0\n128                             Thurrock                          0\n129                               Torbay                          7\n130                        Tower Hamlets                          4\n131                             Trafford                          4\n132                            Wakefield                          0\n133                              Walsall                          0\n134                       Waltham Forest                          1\n135                           Wandsworth                          3\n136                           Warrington                          1\n137                         Warwickshire                          4\n138                       West Berkshire                          0\n139                          West Sussex                          3\n140                          Westminster                          6\n141                                Wigan                          3\n142                            Wiltshire                          4\n143               Windsor and Maidenhead                          1\n144                               Wirral                          2\n145                            Wokingham                          3\n146                        Wolverhampton                          4\n147                       Worcestershire                          0\n148                                 York                          3\n\n[149 rows x 2 columns]"
     ]
    }
   ],
   "source": [
    "df = uk\n",
    "features = df.columns.sort_values().tolist()\n",
    "\n",
    "def get_color(feature):\n",
    "    print('feature', feature)\n",
    "    value = map_dict.get(feature['properties']['City'])\n",
    "    return color_scale(value)\n",
    "\n",
    "# Creating map overlay\n",
    "folium.GeoJson(data = df,\n",
    "               name = 'United Kingdom',\n",
    "               tooltip = folium.features.GeoJsonTooltip(fields=['City', 'Number of confirmed cases'],\n",
    "                                                      labels=True,\n",
    "                                                      sticky=False,\n",
    "                                                        ),\n",
    "               style_function = lambda feature: {\n",
    "                   'fillColor': get_color(feature),\n",
    "                   'color': 'black',\n",
    "                   'weight': 1,\n",
    "                   'dashArray': '5, 5',\n",
    "                   'fillOpacity':0.5,\n",
    "                   },\n",
    "               highlight_function=lambda feature: {'weight':1, 'fillColor': get_color(feature), 'fillOpacity': 0.5}).add_to(uk_map)"
   ]
  },
  {
   "cell_type": "code",
   "execution_count": 32,
   "metadata": {},
   "outputs": [
    {
     "data": {
      "text/html": [
       "<div style=\"width:100%;\"><div style=\"position:relative;width:100%;height:0;padding-bottom:60%;\"><iframe src=\"about:blank\" style=\"position:absolute;width:100%;height:100%;left:0;top:0;border:none !important;\" data-html=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 onload=\"this.contentDocument.open();this.contentDocument.write(atob(this.getAttribute('data-html')));this.contentDocument.close();\" allowfullscreen webkitallowfullscreen mozallowfullscreen></iframe></div></div>"
      ],
      "text/plain": [
       "<folium.folium.Map at 0x1d1c387dcf8>"
      ]
     },
     "execution_count": 32,
     "metadata": {},
     "output_type": "execute_result"
    }
   ],
   "source": [
    "colormap = branca.colormap.linear.YlOrRd_05.scale(small, big)\n",
    "colormap = colormap.to_step('bottomright',index=[small, (big-small)/3 + small, (big-small)/3*2 + small, big])\n",
    "colormap.caption = 'Number of confirmed Coronavirus Cases (per city)'\n",
    "colormap.add_to(uk_map)\n",
    "folium.map.LayerControl('topright', collapsed=False).add_to(colormap)\n",
    "\n",
    "uk_map"
   ]
  },
  {
   "cell_type": "code",
   "execution_count": null,
   "metadata": {},
   "outputs": [],
   "source": []
  }
 ],
 "metadata": {
  "kernelspec": {
   "display_name": "Python 3",
   "language": "python",
   "name": "python3"
  },
  "language_info": {
   "codemirror_mode": {
    "name": "ipython",
    "version": 3
   },
   "file_extension": ".py",
   "mimetype": "text/x-python",
   "name": "python",
   "nbconvert_exporter": "python",
   "pygments_lexer": "ipython3",
   "version": "3.7.3"
  },
  "toc": {
   "base_numbering": 1,
   "nav_menu": {},
   "number_sections": true,
   "sideBar": true,
   "skip_h1_title": false,
   "title_cell": "Table of Contents",
   "title_sidebar": "Contents",
   "toc_cell": true,
   "toc_position": {},
   "toc_section_display": true,
   "toc_window_display": true
  }
 },
 "nbformat": 4,
 "nbformat_minor": 2
}
